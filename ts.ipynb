{
 "cells": [
  {
   "cell_type": "code",
   "execution_count": 6,
   "id": "bb2a5146-0c1e-4e5b-88de-3442d5ffbe31",
   "metadata": {},
   "outputs": [
    {
     "data": {
      "text/html": [
       "<div>\n",
       "<style scoped>\n",
       "    .dataframe tbody tr th:only-of-type {\n",
       "        vertical-align: middle;\n",
       "    }\n",
       "\n",
       "    .dataframe tbody tr th {\n",
       "        vertical-align: top;\n",
       "    }\n",
       "\n",
       "    .dataframe thead th {\n",
       "        text-align: right;\n",
       "    }\n",
       "</style>\n",
       "<table border=\"1\" class=\"dataframe\">\n",
       "  <thead>\n",
       "    <tr style=\"text-align: right;\">\n",
       "      <th></th>\n",
       "      <th>Month</th>\n",
       "      <th>#Passengers</th>\n",
       "    </tr>\n",
       "  </thead>\n",
       "  <tbody>\n",
       "    <tr>\n",
       "      <th>0</th>\n",
       "      <td>1949-01</td>\n",
       "      <td>112</td>\n",
       "    </tr>\n",
       "    <tr>\n",
       "      <th>1</th>\n",
       "      <td>1949-02</td>\n",
       "      <td>118</td>\n",
       "    </tr>\n",
       "    <tr>\n",
       "      <th>2</th>\n",
       "      <td>1949-03</td>\n",
       "      <td>132</td>\n",
       "    </tr>\n",
       "    <tr>\n",
       "      <th>3</th>\n",
       "      <td>1949-04</td>\n",
       "      <td>129</td>\n",
       "    </tr>\n",
       "    <tr>\n",
       "      <th>4</th>\n",
       "      <td>1949-05</td>\n",
       "      <td>121</td>\n",
       "    </tr>\n",
       "  </tbody>\n",
       "</table>\n",
       "</div>"
      ],
      "text/plain": [
       "     Month  #Passengers\n",
       "0  1949-01          112\n",
       "1  1949-02          118\n",
       "2  1949-03          132\n",
       "3  1949-04          129\n",
       "4  1949-05          121"
      ]
     },
     "execution_count": 6,
     "metadata": {},
     "output_type": "execute_result"
    }
   ],
   "source": [
    "import pandas as pd\n",
    "import matplotlib.pylab as plt\n",
    "import numpy as np\n",
    "from datetime import datetime\n",
    "\n",
    "from pandas.plotting import register_matplotlib_converters\n",
    "register_matplotlib_converters()\n",
    "\n",
    "airp = pd.read_csv('AirPassengers.csv')\n",
    "airp.head()"
   ]
  },
  {
   "cell_type": "code",
   "execution_count": 8,
   "id": "db0f1620-d5da-4f6b-b2c4-baaef5c95ad0",
   "metadata": {},
   "outputs": [
    {
     "data": {
      "text/plain": [
       "Month          object\n",
       "#Passengers     int64\n",
       "dtype: object"
      ]
     },
     "execution_count": 8,
     "metadata": {},
     "output_type": "execute_result"
    }
   ],
   "source": [
    "airp.dtypes"
   ]
  },
  {
   "cell_type": "code",
   "execution_count": 13,
   "id": "5aecc27e-4504-4d63-b8dd-92781c378ea7",
   "metadata": {},
   "outputs": [],
   "source": [
    "# Convertendo para datas com lambda\n",
    "dateparse = lambda dates: datetime.strptime(dates, '%Y-%m')\n",
    "base = pd.read_csv('AirPassengers.csv', # Base\n",
    "                   parse_dates=['Month'], # O que vai ser trans\n",
    "                   index_col='Month', # index  vira o mes\n",
    "                   date_parser = dateparse # expressao que trans\n",
    "                  )"
   ]
  },
  {
   "cell_type": "code",
   "execution_count": 14,
   "id": "261f7e52-735c-4821-9054-8f9901dc96d5",
   "metadata": {},
   "outputs": [
    {
     "data": {
      "text/plain": [
       "DatetimeIndex(['1949-01-01', '1949-02-01', '1949-03-01', '1949-04-01',\n",
       "               '1949-05-01', '1949-06-01', '1949-07-01', '1949-08-01',\n",
       "               '1949-09-01', '1949-10-01',\n",
       "               ...\n",
       "               '1960-03-01', '1960-04-01', '1960-05-01', '1960-06-01',\n",
       "               '1960-07-01', '1960-08-01', '1960-09-01', '1960-10-01',\n",
       "               '1960-11-01', '1960-12-01'],\n",
       "              dtype='datetime64[ns]', name='Month', length=144, freq=None)"
      ]
     },
     "execution_count": 14,
     "metadata": {},
     "output_type": "execute_result"
    }
   ],
   "source": [
    "base.index"
   ]
  },
  {
   "cell_type": "code",
   "execution_count": 33,
   "id": "ab597c9b-db14-4deb-9105-1aaa82f3216b",
   "metadata": {},
   "outputs": [
    {
     "name": "stdout",
     "output_type": "stream",
     "text": [
      "118\n",
      "Month\n",
      "1959-01-01    360\n",
      "Name: #Passengers, dtype: int64\n",
      "118\n"
     ]
    }
   ],
   "source": [
    "# Criação da Time Series\n",
    "ts=base['#Passengers']\n",
    "\n",
    "#vendo um valor por index\n",
    "print(ts[1]);\n",
    "\n",
    "#vendo pela data\n",
    "print(ts['1959-01']);\n",
    "\n",
    "#Vendo por data específica\n",
    "print(ts[datetime(1949, 2, 1)])"
   ]
  },
  {
   "cell_type": "code",
   "execution_count": 34,
   "id": "eea144e6-d70b-4fa2-aa47-879a158f4947",
   "metadata": {},
   "outputs": [
    {
     "name": "stdout",
     "output_type": "stream",
     "text": [
      "Month\n",
      "1950-01-01    115\n",
      "1950-02-01    126\n",
      "1950-03-01    141\n",
      "1950-04-01    135\n",
      "1950-05-01    125\n",
      "1950-06-01    149\n",
      "1950-07-01    170\n",
      "Name: #Passengers, dtype: int64\n"
     ]
    }
   ],
   "source": [
    "# Intervalo de datas\n",
    "print(ts['1950-01' : '1950-07-01' ])"
   ]
  },
  {
   "cell_type": "code",
   "execution_count": 36,
   "id": "4d37fcfd-7866-4653-8810-aee8171ad142",
   "metadata": {},
   "outputs": [
    {
     "data": {
      "text/plain": [
       "Month\n",
       "1949-01-01    112\n",
       "1949-02-01    118\n",
       "1949-03-01    132\n",
       "1949-04-01    129\n",
       "1949-05-01    121\n",
       "1949-06-01    135\n",
       "1949-07-01    148\n",
       "1949-08-01    148\n",
       "1949-09-01    136\n",
       "1949-10-01    119\n",
       "1949-11-01    104\n",
       "1949-12-01    118\n",
       "1950-01-01    115\n",
       "1950-02-01    126\n",
       "1950-03-01    141\n",
       "1950-04-01    135\n",
       "1950-05-01    125\n",
       "1950-06-01    149\n",
       "1950-07-01    170\n",
       "1950-08-01    170\n",
       "1950-09-01    158\n",
       "1950-10-01    133\n",
       "1950-11-01    114\n",
       "1950-12-01    140\n",
       "Name: #Passengers, dtype: int64"
      ]
     },
     "execution_count": 36,
     "metadata": {},
     "output_type": "execute_result"
    }
   ],
   "source": [
    "ts[:'1950']"
   ]
  },
  {
   "cell_type": "code",
   "execution_count": 37,
   "id": "f5b24ef4-736f-478e-b319-71822eaf060d",
   "metadata": {},
   "outputs": [
    {
     "data": {
      "text/plain": [
       "Timestamp('1960-12-01 00:00:00')"
      ]
     },
     "execution_count": 37,
     "metadata": {},
     "output_type": "execute_result"
    }
   ],
   "source": [
    "ts.index.max()"
   ]
  },
  {
   "cell_type": "code",
   "execution_count": 38,
   "id": "d88a1647-4cb2-490a-a2ec-615ae094184d",
   "metadata": {},
   "outputs": [
    {
     "data": {
      "text/plain": [
       "Timestamp('1949-01-01 00:00:00')"
      ]
     },
     "execution_count": 38,
     "metadata": {},
     "output_type": "execute_result"
    }
   ],
   "source": [
    "ts.index.min()"
   ]
  },
  {
   "cell_type": "code",
   "execution_count": 41,
   "id": "3902a71f-017e-4302-9985-a6b6c9c7ef42",
   "metadata": {},
   "outputs": [
    {
     "data": {
      "text/plain": [
       "Month\n",
       "1960-01-01    417\n",
       "1960-02-01    391\n",
       "1960-03-01    419\n",
       "1960-04-01    461\n",
       "1960-05-01    472\n",
       "1960-06-01    535\n",
       "1960-07-01    622\n",
       "1960-08-01    606\n",
       "1960-09-01    508\n",
       "1960-10-01    461\n",
       "1960-11-01    390\n",
       "1960-12-01    432\n",
       "Name: #Passengers, dtype: int64"
      ]
     },
     "execution_count": 41,
     "metadata": {},
     "output_type": "execute_result"
    }
   ],
   "source": [
    "ts['1960']"
   ]
  },
  {
   "cell_type": "code",
   "execution_count": 62,
   "id": "0d0f13e7-8ca8-4561-a860-0d40bdfd572b",
   "metadata": {},
   "outputs": [
    {
     "data": {
      "text/plain": [
       "[<matplotlib.lines.Line2D at 0x1ea50e9a2b0>]"
      ]
     },
     "execution_count": 62,
     "metadata": {},
     "output_type": "execute_result"
    },
    {
     "data": {
      "image/png": "[encoded data removed]",
      "text/plain": [
       "<Figure size 432x288 with 1 Axes>"
      ]
     },
     "metadata": {
      "needs_background": "light"
     },
     "output_type": "display_data"
    }
   ],
   "source": [
    "# Exemplo de plot por ano\n",
    "plt.plot(ts['1949-01-01': '1950-01-01'])"
   ]
  },
  {
   "cell_type": "code",
   "execution_count": 53,
   "id": "1154bb86-9e8f-4956-a895-dc6ad375dc4b",
   "metadata": {},
   "outputs": [
    {
     "data": {
      "image/png": "[encoded data removed]",
      "text/plain": [
       "<Figure size 432x288 with 1 Axes>"
      ]
     },
     "metadata": {
      "needs_background": "light"
     },
     "output_type": "display_data"
    }
   ],
   "source": [
    "# Vendo as somas por ano\n",
    "ano = ts.resample('A').sum()\n",
    "plt.plot(ano);"
   ]
  },
  {
   "cell_type": "code",
   "execution_count": 60,
   "id": "9e9e0917-8034-4cfb-b567-c70ba537805c",
   "metadata": {},
   "outputs": [
    {
     "data": {
      "text/plain": [
       "[<matplotlib.lines.Line2D at 0x1ea50e265b0>]"
      ]
     },
     "execution_count": 60,
     "metadata": {},
     "output_type": "execute_result"
    },
    {
     "data": {
      "image/png": "[encoded data removed]",
      "text/plain": [
       "<Figure size 432x288 with 1 Axes>"
      ]
     },
     "metadata": {
      "needs_background": "light"
     },
     "output_type": "display_data"
    }
   ],
   "source": [
    "# Visualização por mês - Lambda pra retornar a soma dos meses\n",
    "mes = ts.groupby(lambda x : x.month).sum()\n",
    "plt.plot(mes)"
   ]
  },
  {
   "cell_type": "code",
   "execution_count": null,
   "id": "4b640f9b-7081-408e-8103-46cb38dbec37",
   "metadata": {},
   "outputs": [],
   "source": []
  }
 ],
 "metadata": {
  "kernelspec": {
   "display_name": "Python 3 (ipykernel)",
   "language": "python",
   "name": "python3"
  },
  "language_info": {
   "codemirror_mode": {
    "name": "ipython",
    "version": 3
   },
   "file_extension": ".py",
   "mimetype": "text/x-python",
   "name": "python",
   "nbconvert_exporter": "python",
   "pygments_lexer": "ipython3",
   "version": "3.9.12"
  }
 },
 "nbformat": 4,
 "nbformat_minor": 5
}
